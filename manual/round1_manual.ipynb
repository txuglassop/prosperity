{
 "cells": [
  {
   "cell_type": "code",
   "execution_count": 1,
   "metadata": {},
   "outputs": [],
   "source": [
    "import numpy as np\n",
    "import itertools\n",
    "import math"
   ]
  },
  {
   "cell_type": "markdown",
   "metadata": {},
   "source": [
    "![image.png](./images/round1_1.png)"
   ]
  },
  {
   "cell_type": "markdown",
   "metadata": {},
   "source": [
    "![image.png](./images/round1_2.png)"
   ]
  },
  {
   "cell_type": "code",
   "execution_count": 2,
   "metadata": {},
   "outputs": [],
   "source": [
    "rates = np.array([[1, 1.45, 0.52, 0.72],\n",
    "                  [0.7, 1, 0.31, 0.48],\n",
    "                  [1.95, 3.1, 1, 1.49],\n",
    "                  [1.34, 1.98, 0.64, 1]\n",
    "                 ])\n",
    "products = { 0: \"Snowballs\", 1: \"Pizza's\", 2: \"Silicon Nuggets\", 3: \"SeaShells\" }"
   ]
  },
  {
   "cell_type": "code",
   "execution_count": 3,
   "metadata": {},
   "outputs": [],
   "source": [
    "def amount(seq: tuple[int, ...]) -> float:\n",
    "    if not seq:\n",
    "        return 1\n",
    "    \n",
    "    # First exchange starts from seashells\n",
    "    payoff = rates[3, seq[0]]\n",
    "\n",
    "    for i in range(len(seq) - 1):\n",
    "        payoff *= rates[seq[i], seq[i+1]]\n",
    "\n",
    "    # Last exchange ends with seashells\n",
    "    payoff *= rates[seq[-1], 3]\n",
    "\n",
    "    return payoff"
   ]
  },
  {
   "cell_type": "code",
   "execution_count": 4,
   "metadata": {},
   "outputs": [],
   "source": [
    "def maximise(L: int):\n",
    "    # All possible sequences of length L\n",
    "    seqs = itertools.product(*[range(0, 4) for _ in range(L)])\n",
    "\n",
    "    max_val = float('-inf')\n",
    "    argmax = None\n",
    "\n",
    "    for seq in seqs:\n",
    "        payoff = amount(seq)\n",
    "        if payoff > max_val:\n",
    "            max_val = payoff\n",
    "            argmax = seq\n",
    "        \n",
    "    return (argmax, max_val)"
   ]
  },
  {
   "cell_type": "code",
   "execution_count": 5,
   "metadata": {},
   "outputs": [
    {
     "name": "stdout",
     "output_type": "stream",
     "text": [
      "((), 1)\n",
      "((3,), np.float64(1.0))\n",
      "((0, 2), np.float64(1.038232))\n",
      "((1, 0, 2), np.float64(1.0738728))\n",
      "((0, 2, 1, 0), np.float64(1.08868032))\n"
     ]
    }
   ],
   "source": [
    "for L in range(0, 5):\n",
    "    print(maximise(L))"
   ]
  },
  {
   "cell_type": "code",
   "execution_count": 6,
   "metadata": {},
   "outputs": [
    {
     "name": "stdout",
     "output_type": "stream",
     "text": [
      "SeaShells -> Snowballs -> Silicon Nuggets -> Pizza's -> Snowballs -> SeaShells\n"
     ]
    }
   ],
   "source": [
    "argmax, _ = maximise(4)\n",
    "print(f\"{products[3]} -> {products[argmax[0]]} -> {products[argmax[1]]} -> {products[argmax[2]]} -> {products[argmax[3]]} -> {products[3]}\")"
   ]
  }
 ],
 "metadata": {
  "kernelspec": {
   "display_name": "Python 3",
   "language": "python",
   "name": "python3"
  },
  "language_info": {
   "codemirror_mode": {
    "name": "ipython",
    "version": 3
   },
   "file_extension": ".py",
   "mimetype": "text/x-python",
   "name": "python",
   "nbconvert_exporter": "python",
   "pygments_lexer": "ipython3",
   "version": "3.12.4"
  }
 },
 "nbformat": 4,
 "nbformat_minor": 2
}
