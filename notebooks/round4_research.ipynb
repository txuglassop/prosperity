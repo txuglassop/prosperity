{
 "cells": [
  {
   "cell_type": "code",
   "execution_count": 6,
   "metadata": {},
   "outputs": [],
   "source": [
    "import pandas as pd\n",
    "import numpy as np\n",
    "\n",
    "from sklearn.linear_model import LinearRegression\n",
    "from sklearn.metrics import r2_score, mean_squared_error\n",
    "\n",
    "from scipy.stats import norm\n",
    "from scipy.optimize import brentq\n",
    "\n",
    "import matplotlib.pyplot as plt\n",
    "import seaborn as sns"
   ]
  },
  {
   "cell_type": "code",
   "execution_count": 24,
   "metadata": {},
   "outputs": [
    {
     "name": "stdout",
     "output_type": "stream",
     "text": [
      "    timestamp  pristineBidPrice  pristineAskPrice  transportFees  \\\n",
      "20       2000             644.0             645.5            1.0   \n",
      "\n",
      "    exportTariff  importTariff  sugarPrice  sunlightIndex  \\\n",
      "20           9.5          -3.0  201.093455          60.05   \n",
      "\n",
      "    archipelagoBidPrice  archipelagoAskPrice  conversionBuyCost  \\\n",
      "20                644.0                  649              643.5   \n",
      "\n",
      "    conversionSellRevenue  midPrice  \n",
      "20                  646.0     646.5  \n"
     ]
    }
   ],
   "source": [
    "obs_day_1 = pd.read_csv('./p3_data/round4/observations_round_4_day_1.csv', sep=',')\n",
    "obs_day_2 = pd.read_csv('./p3_data/round4/observations_round_4_day_2.csv', sep=',')\n",
    "obs_day_3 = pd.read_csv('./p3_data/round4/observations_round_4_day_3.csv', sep=',')\n",
    "\n",
    "prices_day_1 = pd.read_csv('./p3_data/round4/prices_round_4_day_1.csv', sep=';')\n",
    "prices_day_2 = pd.read_csv('./p3_data/round4/prices_round_4_day_2.csv', sep=';')\n",
    "prices_day_3 = pd.read_csv('./p3_data/round4/prices_round_4_day_3.csv', sep=';')\n",
    "\n",
    "obs_day_2['timestamp'] += 1_000_000\n",
    "obs_day_3['timestamp'] += 2_000_000\n",
    "\n",
    "prices_day_2['timestamp'] += 1_000_000\n",
    "prices_day_3['timestamp'] += 2_000_000\n",
    "\n",
    "prices_day_1 = prices_day_1[prices_day_1['product'] == \"MAGNIFICENT_MACARONS\"]\n",
    "prices_day_2 = prices_day_2[prices_day_2['product'] == \"MAGNIFICENT_MACARONS\"]\n",
    "prices_day_3 = prices_day_3[prices_day_3['product'] == \"MAGNIFICENT_MACARONS\"]\n",
    "\n",
    "obs = pd.concat([obs_day_1, obs_day_2, obs_day_3])\n",
    "prices = pd.concat([prices_day_1, prices_day_2, prices_day_3])\n",
    "\n",
    "obs_renamed = obs.rename(columns={\n",
    "    'bidPrice': 'pristineBidPrice',\n",
    "    'askPrice': 'pristineAskPrice'\n",
    "})\n",
    "\n",
    "prices_selected = prices[['timestamp', 'bid_price_1', 'ask_price_1']].rename(columns={\n",
    "    'bid_price_1': 'archipelagoBidPrice',\n",
    "    'ask_price_1': 'archipelagoAskPrice'\n",
    "})\n",
    "\n",
    "df = pd.merge(obs_renamed, prices_selected, on='timestamp')\n",
    "df['conversionBuyCost'] = df['pristineAskPrice'] + df['transportFees'] + df['importTariff']\n",
    "df['conversionSellRevenue'] = df['pristineBidPrice'] - df['transportFees'] - df['importTariff']\n",
    "df['midPrice'] = (df['archipelagoBidPrice'] + df['archipelagoAskPrice']) / 2\n",
    "print(df[df['timestamp'] == 2_000])"
   ]
  },
  {
   "cell_type": "code",
   "execution_count": 26,
   "metadata": {},
   "outputs": [
    {
     "name": "stdout",
     "output_type": "stream",
     "text": [
      "20       0.5\n",
      "100      1.0\n",
      "186      1.0\n",
      "225      2.0\n",
      "282      1.0\n",
      "        ... \n",
      "29929    2.8\n",
      "29932    2.8\n",
      "29951    2.8\n",
      "29981    2.3\n",
      "29983    3.8\n",
      "Length: 782, dtype: float64\n",
      "1289.2\n",
      "54       0.5\n",
      "82       0.5\n",
      "95       1.0\n",
      "156      2.5\n",
      "163      1.0\n",
      "        ... \n",
      "29778    2.3\n",
      "29811    2.8\n",
      "29915    2.3\n",
      "29967    2.8\n",
      "29993    3.8\n",
      "Length: 809, dtype: float64\n",
      "1317.9000000000012\n"
     ]
    }
   ],
   "source": [
    "test = df['archipelagoBidPrice'] - df['conversionBuyCost']\n",
    "print(test[test > 0])\n",
    "print(sum(test[test > 0]))\n",
    "\n",
    "test = df['conversionSellRevenue'] - df['archipelagoAskPrice']\n",
    "print(test[test > 0])\n",
    "print(sum(test[test > 0]))\n"
   ]
  }
 ],
 "metadata": {
  "kernelspec": {
   "display_name": "Python 3",
   "language": "python",
   "name": "python3"
  },
  "language_info": {
   "codemirror_mode": {
    "name": "ipython",
    "version": 3
   },
   "file_extension": ".py",
   "mimetype": "text/x-python",
   "name": "python",
   "nbconvert_exporter": "python",
   "pygments_lexer": "ipython3",
   "version": "3.12.4"
  }
 },
 "nbformat": 4,
 "nbformat_minor": 2
}
